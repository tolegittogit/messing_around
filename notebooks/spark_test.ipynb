{
 "cells": [
  {
   "cell_type": "code",
   "execution_count": 1,
   "id": "71270d73",
   "metadata": {},
   "outputs": [],
   "source": [
    "import pyspark\n",
    "from pyspark import SparkContext#, SparkConf\n",
    "from pyspark.sql import SparkSession"
   ]
  },
  {
   "cell_type": "code",
   "execution_count": 3,
   "id": "6e700930",
   "metadata": {},
   "outputs": [],
   "source": [
    "##set config\n",
    "#conf = pyspark.SparkConf()"
   ]
  },
  {
   "cell_type": "code",
   "execution_count": null,
   "id": "75744dcf",
   "metadata": {},
   "outputs": [],
   "source": [
    "sc = pyspark.SparkContext()\n"
   ]
  }
 ],
 "metadata": {
  "kernelspec": {
   "display_name": "Python 3",
   "language": "python",
   "name": "python3"
  },
  "language_info": {
   "codemirror_mode": {
    "name": "ipython",
    "version": 3
   },
   "file_extension": ".py",
   "mimetype": "text/x-python",
   "name": "python",
   "nbconvert_exporter": "python",
   "pygments_lexer": "ipython3",
   "version": "3.9.2"
  }
 },
 "nbformat": 4,
 "nbformat_minor": 5
}
