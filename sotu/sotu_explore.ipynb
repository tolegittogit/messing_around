{
 "cells": [
  {
   "cell_type": "markdown",
   "id": "36b052b1",
   "metadata": {},
   "source": [
    "# Explore SOTU Addresses"
   ]
  },
  {
   "cell_type": "markdown",
   "id": "387c9cf5",
   "metadata": {},
   "source": [
    "#### Initial Tasks:\n",
    "- Word Frequency/Choice and Evolution\n",
    "- Word Cloud!\n",
    "\n",
    "#### More Advanced Tasks:\n",
    "- Topic Modeling and Evolution of Topics over Time\n",
    "- Text summarization\n",
    "- Entity/Info Extraction\n",
    "- Speaker similarity\n",
    "- Sentiment"
   ]
  },
  {
   "cell_type": "markdown",
   "id": "a8b36ece",
   "metadata": {},
   "source": [
    "### Loading the data"
   ]
  },
  {
   "cell_type": "code",
   "execution_count": 9,
   "id": "5720f5c8",
   "metadata": {},
   "outputs": [],
   "source": [
    "from elasticsearch import Elasticsearch\n",
    "from pymongo import MongoClient\n",
    "\n",
    "## mongo\n",
    "client = MongoClient()\n",
    "db = client['nlp']\n",
    "sotu = db['sotu']\n",
    "sotu_recs = list(sotu.find({}))\n",
    "\n",
    "\n",
    "## elasticsearch\n",
    "#e_client = Elasticsearch([{'host': 'localhost', 'port': 9200}])\n",
    "#e_client.info()\n"
   ]
  },
  {
   "cell_type": "markdown",
   "id": "dca51e40",
   "metadata": {},
   "source": [
    "#### Initial Tasks:\n",
    "- Word Frequency/Choice and Evolution\n",
    "- Word Cloud!\n",
    "\n",
    "#### More Advanced Tasks:\n",
    "- Topic Modeling and Evolution of Topics over Time\n",
    "- Text summarization\n",
    "- Entity/Info Extraction\n",
    "- Speaker similarity\n",
    "- Sentiment"
   ]
  },
  {
   "cell_type": "markdown",
   "id": "38ae2fdc",
   "metadata": {},
   "source": [
    "### Preprocessing\n"
   ]
  },
  {
   "cell_type": "code",
   "execution_count": null,
   "id": "4efc1f11",
   "metadata": {},
   "outputs": [],
   "source": [
    "import nltk\n",
    "\n"
   ]
  },
  {
   "cell_type": "markdown",
   "id": "ffba3734",
   "metadata": {},
   "source": [
    "### Exploring the data\n",
    "\n"
   ]
  },
  {
   "cell_type": "code",
   "execution_count": null,
   "id": "8e078351",
   "metadata": {},
   "outputs": [],
   "source": []
  },
  {
   "cell_type": "markdown",
   "id": "ee7b1553",
   "metadata": {},
   "source": [
    "### Analyzing the data\n",
    "\n",
    "\n"
   ]
  },
  {
   "cell_type": "code",
   "execution_count": null,
   "id": "efda1168",
   "metadata": {},
   "outputs": [],
   "source": []
  }
 ],
 "metadata": {
  "kernelspec": {
   "display_name": "Python 3",
   "language": "python",
   "name": "python3"
  },
  "language_info": {
   "codemirror_mode": {
    "name": "ipython",
    "version": 3
   },
   "file_extension": ".py",
   "mimetype": "text/x-python",
   "name": "python",
   "nbconvert_exporter": "python",
   "pygments_lexer": "ipython3",
   "version": "3.8.5"
  }
 },
 "nbformat": 4,
 "nbformat_minor": 5
}
